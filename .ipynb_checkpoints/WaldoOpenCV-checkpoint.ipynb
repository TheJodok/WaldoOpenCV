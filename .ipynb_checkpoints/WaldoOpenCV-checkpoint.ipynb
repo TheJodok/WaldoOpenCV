{
 "cells": [
  {
   "cell_type": "markdown",
   "id": "9fc5e83b",
   "metadata": {},
   "source": [
    "## Where's Waldo? - Find him OpenCV!"
   ]
  },
  {
   "cell_type": "code",
   "execution_count": 37,
   "id": "f31641ea",
   "metadata": {},
   "outputs": [
    {
     "name": "stdout",
     "output_type": "stream",
     "text": [
      "Requirement already satisfied: opencv-python in c:\\users\\admin\\anaconda3\\envs\\waldoopencv\\lib\\site-packages (4.5.2.54)\n",
      "Requirement already satisfied: numpy>=1.19.3 in c:\\users\\admin\\anaconda3\\envs\\waldoopencv\\lib\\site-packages (from opencv-python) (1.21.0)\n"
     ]
    }
   ],
   "source": [
    "#install opencv\n",
    "!pip install opencv-python"
   ]
  },
  {
   "cell_type": "code",
   "execution_count": 38,
   "id": "37b01246",
   "metadata": {},
   "outputs": [],
   "source": [
    "import cv2\n",
    "import numpy as np"
   ]
  },
  {
   "cell_type": "markdown",
   "id": "7d093009",
   "metadata": {},
   "source": [
    "### Load Where's Waldo Images\n",
    "Load our Image to be searched (Map) and the Image we are Searching for (Waldo's Face)"
   ]
  },
  {
   "cell_type": "code",
   "execution_count": 40,
   "id": "f4045fb2",
   "metadata": {},
   "outputs": [],
   "source": [
    "search_map = cv2.imread('map.png', cv2.IMREAD_UNCHANGED)\n",
    "search_target = cv2.imread('waldo.png', cv2.IMREAD_UNCHANGED)"
   ]
  },
  {
   "cell_type": "code",
   "execution_count": 41,
   "id": "7e118371",
   "metadata": {},
   "outputs": [],
   "source": [
    "#Show Map\n",
    "# Using cv2.imshow() method \n",
    "# Displaying the image \n",
    "cv2.imshow(\"Map\", search_map)\n",
    "  \n",
    "#waits for user to press any key \n",
    "#(this is necessary to avoid Python kernel form crashing)\n",
    "cv2.waitKey() \n",
    "  \n",
    "#closing all open windows \n",
    "cv2.destroyAllWindows() "
   ]
  },
  {
   "cell_type": "code",
   "execution_count": 42,
   "id": "23bf8c8f",
   "metadata": {},
   "outputs": [],
   "source": [
    "#Show Waldo\n",
    "# Using cv2.imshow() method \n",
    "# Displaying the image \n",
    "cv2.imshow(\"Waldo\", search_target)\n",
    "  \n",
    "#waits for user to press any key \n",
    "#(this is necessary to avoid Python kernel form crashing)\n",
    "cv2.waitKey() \n",
    "  \n",
    "#closing all open windows \n",
    "cv2.destroyAllWindows() "
   ]
  },
  {
   "cell_type": "markdown",
   "id": "9bd10868",
   "metadata": {},
   "source": [
    "### Template Matching\n",
    "E.g. compate search_target with search_map and check where the pattern matches\n",
    "We can choose from 6 different methods (https://docs.opencv.org/master/d4/dc6/tutorial_py_template_matching.html).\n",
    "\n",
    "We choose TM_CCOEFF_NORMED, because thats what was used in a similar Tutorial :-)"
   ]
  },
  {
   "cell_type": "code",
   "execution_count": 53,
   "id": "a3dffe82",
   "metadata": {},
   "outputs": [],
   "source": [
    "result = cv2.matchTemplate(search_map, search_target, cv2.TM_CCOEFF_NORMED)"
   ]
  },
  {
   "cell_type": "code",
   "execution_count": 54,
   "id": "2824a2f9",
   "metadata": {},
   "outputs": [],
   "source": [
    "#Check Result\n",
    "cv2.imshow('Result', result)\n",
    "cv2.waitKey()\n",
    "cv2.destroyAllWindows() #you should notice a small white dot on the image"
   ]
  },
  {
   "cell_type": "code",
   "execution_count": 55,
   "id": "e694fb6c",
   "metadata": {},
   "outputs": [],
   "source": [
    "#Get Max Result --> we get 4 Values --> worst/best value and the location of worst/best\n",
    "min_val, max_val, min_loc, max_loc = cv2.minMaxLoc(result)"
   ]
  },
  {
   "cell_type": "code",
   "execution_count": 56,
   "id": "26333080",
   "metadata": {},
   "outputs": [
    {
     "data": {
      "text/plain": [
       "(1229, 519)"
      ]
     },
     "execution_count": 56,
     "metadata": {},
     "output_type": "execute_result"
    }
   ],
   "source": [
    "max_loc"
   ]
  },
  {
   "cell_type": "code",
   "execution_count": 57,
   "id": "3655b117",
   "metadata": {},
   "outputs": [
    {
     "data": {
      "text/plain": [
       "0.9999974966049194"
      ]
     },
     "execution_count": 57,
     "metadata": {},
     "output_type": "execute_result"
    }
   ],
   "source": [
    "max_val"
   ]
  },
  {
   "cell_type": "markdown",
   "id": "84dffb56",
   "metadata": {},
   "source": [
    "### Draw Rectangle over Waldo"
   ]
  },
  {
   "cell_type": "code",
   "execution_count": 60,
   "id": "5e6e96fa",
   "metadata": {},
   "outputs": [],
   "source": [
    "w = search_target.shape[1]\n",
    "h = search_target.shape[0]"
   ]
  },
  {
   "cell_type": "code",
   "execution_count": 61,
   "id": "a7c57397",
   "metadata": {},
   "outputs": [
    {
     "data": {
      "text/plain": [
       "array([[[0, 2, 0],\n",
       "        [0, 2, 0],\n",
       "        [0, 2, 0],\n",
       "        ...,\n",
       "        [0, 0, 0],\n",
       "        [0, 0, 0],\n",
       "        [0, 0, 0]],\n",
       "\n",
       "       [[0, 1, 1],\n",
       "        [0, 1, 1],\n",
       "        [0, 1, 1],\n",
       "        ...,\n",
       "        [0, 0, 0],\n",
       "        [0, 0, 0],\n",
       "        [0, 0, 0]],\n",
       "\n",
       "       [[0, 0, 6],\n",
       "        [0, 0, 6],\n",
       "        [0, 1, 5],\n",
       "        ...,\n",
       "        [0, 0, 0],\n",
       "        [0, 0, 0],\n",
       "        [0, 0, 0]],\n",
       "\n",
       "       ...,\n",
       "\n",
       "       [[0, 0, 0],\n",
       "        [0, 0, 0],\n",
       "        [0, 0, 0],\n",
       "        ...,\n",
       "        [0, 0, 0],\n",
       "        [0, 0, 0],\n",
       "        [0, 0, 0]],\n",
       "\n",
       "       [[0, 0, 0],\n",
       "        [0, 0, 0],\n",
       "        [0, 0, 0],\n",
       "        ...,\n",
       "        [0, 0, 0],\n",
       "        [0, 0, 0],\n",
       "        [0, 0, 0]],\n",
       "\n",
       "       [[0, 0, 0],\n",
       "        [0, 0, 0],\n",
       "        [0, 0, 0],\n",
       "        ...,\n",
       "        [0, 0, 0],\n",
       "        [0, 0, 0],\n",
       "        [0, 0, 0]]], dtype=uint8)"
      ]
     },
     "execution_count": 61,
     "metadata": {},
     "output_type": "execute_result"
    }
   ],
   "source": [
    "cv2.rectangle(search_map, max_loc, (max_loc[0] + w, max_loc[1] + h), (255,255,0), 3)"
   ]
  },
  {
   "cell_type": "code",
   "execution_count": 62,
   "id": "6db5605a",
   "metadata": {},
   "outputs": [],
   "source": [
    "cv2.imshow(\"Map\", search_map)\n",
    "cv2.waitKey() \n",
    "cv2.destroyAllWindows() "
   ]
  },
  {
   "cell_type": "code",
   "execution_count": null,
   "id": "4fe26484",
   "metadata": {},
   "outputs": [],
   "source": []
  }
 ],
 "metadata": {
  "kernelspec": {
   "display_name": "Python 3",
   "language": "python",
   "name": "python3"
  },
  "language_info": {
   "codemirror_mode": {
    "name": "ipython",
    "version": 3
   },
   "file_extension": ".py",
   "mimetype": "text/x-python",
   "name": "python",
   "nbconvert_exporter": "python",
   "pygments_lexer": "ipython3",
   "version": "3.9.5"
  }
 },
 "nbformat": 4,
 "nbformat_minor": 5
}
